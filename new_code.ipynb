{
 "cells": [
  {
   "cell_type": "code",
   "execution_count": 1,
   "metadata": {},
   "outputs": [],
   "source": [
    "import sys\n",
    "import numpy as np\n",
    "import re"
   ]
  },
  {
   "cell_type": "code",
   "execution_count": 2,
   "metadata": {},
   "outputs": [],
   "source": [
    "# Read in the gene file +/- 1000 base pairs and break it up into 3 pieces\n",
    "def read_gene_string(genefile):\n",
    "\n",
    "    # Import Gene -+1000 base pairs - clean in the same way\n",
    "    with open(genefile, 'r') as file:\n",
    "        Gene_plus = file.read().replace('\\n', '')\n",
    "\n",
    "    # Clean away numbers and spaces\n",
    "    Gene_plus = Gene_plus.replace(' ', '') # spaces\n",
    "    remove_digits = str.maketrans('', '', '0123456789')\n",
    "    Gene_plus = Gene_plus.translate(remove_digits)   # numbers\n",
    "    Left_of_gene = Gene_plus[0:1000] # 1000 bp's to the left of the Gene\n",
    "    Right_of_gene = Gene_plus[(len(Gene_plus)-1000):] # 1000 bp's to the right of the Gene (includes 3' UTR segment)\n",
    "    Gene = Gene_plus[1000:(len(Gene_plus)-1000)]\n",
    "    \n",
    "    return (Left_of_gene, Gene, Right_of_gene)"
   ]
  },
  {
   "cell_type": "code",
   "execution_count": 3,
   "metadata": {},
   "outputs": [],
   "source": [
    "# Read in and process the enzyme list\n",
    "def read_enzyme_list(enzymefile):\n",
    "\n",
    "    with open(enzymefile) as file:\n",
    "        lines=file.readlines()\n",
    "        enzymes=[line.rstrip() for line in lines]\n",
    "        \n",
    "    rsitelist = []\n",
    "    enamelist = []\n",
    "    if (len(enzymes) % 2) == 1:\n",
    "        print('Enzyme list has an odd number of lines. Enzyme list should be a list of enzyme names and restriction sites in each line.')\n",
    "    else:\n",
    "        for linei in range(1, len(enzymes), 2):\n",
    "            rsite = enzymes[linei]\n",
    "            ename = enzymes[linei-1]\n",
    "            # check length of restriction site\n",
    "            if len(rsite) == 6 or len(rsite) == 8:\n",
    "                # check whether any non-ACGT characters\n",
    "                if len(re.sub('[ACGT]', '', rsite)) == 0:\n",
    "                    #check whether palindromic so can focus on only one strand\n",
    "                    complement = {'A': 'T', 'C': 'G', 'G': 'C', 'T': 'A'}\n",
    "                    reverse_complement = \"\".join(complement.get(base, base) for base in reversed(rsite))\n",
    "                    if rsite==reverse_complement:\n",
    "                        # add name only if enzyme already in the list\n",
    "                        rsiteexists=0 \n",
    "                        for linej in range(len(rsitelist)):\n",
    "                            if rsitelist[linej] == rsite:\n",
    "                                rsiteexists=1\n",
    "                                enamelist[linej] = enamelist[linej]+', '+ename\n",
    "                                break\n",
    "                        #add new entry if not yet there\n",
    "                        if rsiteexists==0:\n",
    "                            rsitelist.append(rsite)\n",
    "                            enamelist.append(ename)\n",
    "    return (np.array(rsitelist), np.array(enamelist))"
   ]
  },
  {
   "cell_type": "code",
   "execution_count": 211,
   "metadata": {},
   "outputs": [],
   "source": [
    "genefile   = './Chris_code/clb2_pm_1000.txt'\n",
    "enzymefile = './Chris_code/raw_enzyme_list.txt'\n",
    "minhomology = 100\n",
    "alpha = 1"
   ]
  },
  {
   "cell_type": "code",
   "execution_count": 109,
   "metadata": {},
   "outputs": [],
   "source": [
    "Left_of_gene, Gene, Right_of_gene = read_gene_string(genefile)\n",
    "rsitelist, enamelist = read_enzyme_list(enzymefile)"
   ]
  },
  {
   "cell_type": "markdown",
   "metadata": {},
   "source": [
    "### Loop"
   ]
  },
  {
   "cell_type": "markdown",
   "metadata": {},
   "source": [
    "#### 3."
   ]
  },
  {
   "cell_type": "code",
   "execution_count": 241,
   "metadata": {},
   "outputs": [],
   "source": [
    "# 3.\n",
    "def right_search(Gene, rsitelist, enamelist, minhomology=0):\n",
    "    # find right-most occurances of given rsites in Gene\n",
    "    if minhomology>0:\n",
    "        Gene = Gene[:-minhomology]\n",
    "    rsite_position_list = np.array([Gene.rfind(rsite) for rsite in rsitelist])\n",
    "\n",
    "    # sort and remove not matched rsites\n",
    "    sorted_inds = np.argsort(-rsite_position_list)\n",
    "    rsite_position_list = rsite_position_list[sorted_inds]\n",
    "    matched_inds = (rsite_position_list != -1)\n",
    "    rsite_position_list = rsite_position_list[matched_inds]\n",
    "\n",
    "    # apply sort and remove inds to rsitelist and enamelist\n",
    "    rsitelist = rsitelist[sorted_inds][matched_inds]\n",
    "    enamelist = enamelist[sorted_inds][matched_inds]\n",
    "\n",
    "    return rsitelist, enamelist, rsite_position_list\n",
    "\n",
    "\n",
    "\n",
    "def left_search(Gene, rsitelist, enamelist, minhomology=0):\n",
    "    # find right-most occurances of given rsites in Gene\n",
    "    rsite_position_list = np.array([Gene[minhomology:].find(rsite) for rsite in rsitelist])\n",
    "\n",
    "    # sort and remove not matched rsites\n",
    "    sorted_inds = np.argsort(rsite_position_list)\n",
    "    rsite_position_list = rsite_position_list[sorted_inds]\n",
    "    matched_inds = (rsite_position_list != -1)\n",
    "    rsite_position_list = rsite_position_list[matched_inds] + minhomology\n",
    "\n",
    "    # apply sort and remove inds to rsitelist and enamelist\n",
    "    rsitelist = rsitelist[sorted_inds][matched_inds]\n",
    "    enamelist = enamelist[sorted_inds][matched_inds]\n",
    "\n",
    "    return rsitelist, enamelist, rsite_position_list\n",
    "\n",
    "\n",
    "\n",
    "\n",
    "def rsite_search(Gene, rsitelist, enamelist, starting_position, minhomology=0):\n",
    "\n",
    "    # TODO for deletion search left_of_gene and right_of_gene instead of gene\n",
    "\n",
    "    if starting_position not in ['left','right']:\n",
    "        raise ValueError('Wrong starting_position value')\n",
    "\n",
    "    # find left(right)-most occurances of given rsites in Gene and sort them\n",
    "    if starting_position == 'left':\n",
    "        Gene_cut = Gene[minhomology:]\n",
    "        rsite_position_list = np.array([Gene_cut.find(rsite) for rsite in rsitelist])\n",
    "        sorted_inds = np.argsort(rsite_position_list)\n",
    "    elif starting_position == 'right':\n",
    "        Gene_cut = Gene[:len(Gene)-minhomology]\n",
    "        rsite_position_list = np.array([Gene_cut.rfind(rsite) for rsite in rsitelist]) \n",
    "        sorted_inds = np.argsort(-rsite_position_list)\n",
    "\n",
    "    # remove not matched rsites\n",
    "    rsite_position_list = rsite_position_list[sorted_inds]\n",
    "    matched_inds = (rsite_position_list != -1)\n",
    "    rsite_position_list = rsite_position_list[matched_inds]\n",
    "    if starting_position == 'left':\n",
    "        rsite_position_list += minhomology\n",
    "\n",
    "    # apply sort and remove inds to rsitelist and enamelist\n",
    "    rsitelist = rsitelist[sorted_inds][matched_inds]\n",
    "    enamelist = enamelist[sorted_inds][matched_inds]\n",
    "\n",
    "    return rsitelist, enamelist, rsite_position_list"
   ]
  },
  {
   "cell_type": "code",
   "execution_count": 159,
   "metadata": {},
   "outputs": [
    {
     "name": "stdout",
     "output_type": "stream",
     "text": [
      "asdsad\n"
     ]
    },
    {
     "data": {
      "text/plain": [
       "(array(['TCATGA', 'CAATTG', 'GTATAC', 'CAGCTG', 'GATATC', 'TTCGAA',\n",
       "        'TTTAAA', 'AATATT', 'AGATCT', 'TGTACA', 'ACTAGT'], dtype='<U8'),\n",
       " array(['BspHI', 'MfeI, MfeI-HFÂ®', 'BstZ17I, BstZ17I-HFÂ®',\n",
       "        'PvuII, PvuII-HFÂ®', 'EcoRV, EcoRV-HFÂ®', 'BstBI', 'DraI',\n",
       "        'SspI, SspI-HFÂ®', 'BglII', 'BsrGI, BsrGI-HFÂ®', 'SpeI, SpeI-HFÂ®'],\n",
       "       dtype='<U32'),\n",
       " array([1355, 1348, 1289, 1213, 1160, 1103, 1043,  765,  746,   65,   39]))"
      ]
     },
     "execution_count": 159,
     "metadata": {},
     "output_type": "execute_result"
    }
   ],
   "source": [
    "gene_rsitelist_sorted, gene_enamelist_sorted, gene_rsite_position_list_sorted = right_search(Gene, rsitelist, enamelist, minhomology=100)\n",
    "gene_rsitelist_sorted, gene_enamelist_sorted, gene_rsite_position_list_sorted"
   ]
  },
  {
   "cell_type": "markdown",
   "metadata": {},
   "source": [
    "#### 4. and 5."
   ]
  },
  {
   "cell_type": "code",
   "execution_count": 156,
   "metadata": {},
   "outputs": [],
   "source": [
    "# TODO load as parameters and load from files\n",
    "def load_linker(path):\n",
    "    return 'GGTGCTTCTGTTGGTGCTTCTGTTTCTGTTGGTCCGC'\n",
    "\n",
    "def load_FPG(path):\n",
    "    mCherry = 'atggtgagcaagggcgaggaggataacatggccatcatcaaggagttcatgcgcttcaaggtgcatatggagggctccgtgaacggccacgagttcgagatcgagggcgagggcgagggccgcccctacgagggcacccagaccgccaagctgaaggtgaccaagggtggccccctgcccttcgcctgggacatcctgtcccctcagttcatgtacggctccaaggcctacgtgaagcaccccgccgacatccccgactacttgaagctgtccttccccgagggcttcaagtgggagcgcgtgatgaacttcgaggacggcggcgtggtgaccgtgacccaggactcctccctgcaggacggcgagttcatctacaaggtgaagctgcgcggcaccaacttcccctccgacggccccgtaatgcagaagaagaccatgggctgggaggcctcctccgagcggatgtaccccgaggacggcgccctgaagggcgagatcaagcagaggctgaagctgaaggacggcggccactacgacgctgaggtcaagaccacctacaaggccaagaagcccgtgcagctgcccggcgcctacaacgtcaacatcaagttggacatcacctcccacaacgaggactacaccatcgtggaacagtacgaacgcgccgagggccgccactccaccggcggcatggacgagctgtactag'\n",
    "    return mCherry.upper()"
   ]
  },
  {
   "cell_type": "code",
   "execution_count": 203,
   "metadata": {},
   "outputs": [
    {
     "data": {
      "text/plain": [
       "True"
      ]
     },
     "execution_count": 203,
     "metadata": {},
     "output_type": "execute_result"
    }
   ],
   "source": [
    "# 4. and 5.\n",
    "\n",
    "ind = 1\n",
    "\n",
    "rsite0 = gene_rsitelist_sorted[ind]\n",
    "rsite0_pos = gene_rsite_position_list_sorted[ind]\n",
    "ename0 = gene_enamelist_sorted[ind]\n",
    "X = Gene[rsite0_pos-minhomology:-3]\n",
    "alphaX = Right_of_gene[:int(alpha*len(X))]\n",
    "\n",
    "\n",
    "X.find(rsite0)==minhomology"
   ]
  },
  {
   "cell_type": "code",
   "execution_count": 204,
   "metadata": {},
   "outputs": [],
   "source": [
    "linker = load_linker('')\n",
    "FPG = load_FPG('')\n",
    "\n",
    "full_sequence = X + linker + FPG + alphaX\n",
    "if full_sequence.count(rsite0) != 1:\n",
    "    print('rsite is not unique in the gene')\n",
    "    pass # TODO go back to 3."
   ]
  },
  {
   "cell_type": "markdown",
   "metadata": {},
   "source": [
    "#### 7."
   ]
  },
  {
   "cell_type": "code",
   "execution_count": 217,
   "metadata": {},
   "outputs": [],
   "source": [
    "# 7.\n",
    "\n",
    "# TODO load backbone with MCS, and two indices\n",
    "\n",
    "def load_MCS(path):\n",
    "    return 'GTAATACGACTCACTATAGGGCGAATTGGGTACCGGGCCCCCCCTCGAGGTCGACGGTATCGATAAGCTTGATATCGAATTCCTGCAGCCCGGGGGATCCACTAGTTCTAGAGCGGCCGCCACCGCGGTGGAGCTCCAGCTTTTGTTCCCTTTAGTGAGGGTTAATT'"
   ]
  },
  {
   "cell_type": "code",
   "execution_count": 206,
   "metadata": {},
   "outputs": [],
   "source": [
    "MCS = load_MCS('')\n",
    "# Search for the most outer CS from MCS that are not in 4. \n",
    "\n",
    "rsite1 = ''\n",
    "rsite2 = ''\n",
    "\n",
    "msc_rsitelist_sorted_right, _, _ = left_search(MCS, rsitelist, enamelist)\n",
    "for i, rsite in enumerate(msc_rsitelist_sorted_right):\n",
    "    if rsite not in full_sequence:\n",
    "        rsite1 = rsite\n",
    "        break\n",
    "\n",
    "msc_rsitelist_sorted_left, _, _ = right_search(MCS, rsitelist, enamelist)\n",
    "for i, rsite in enumerate(msc_rsitelist_sorted_left):\n",
    "    if rsite not in full_sequence:\n",
    "        rsite2 = rsite\n",
    "        break\n",
    "\n",
    "if not rsite1 or not rsite2:\n",
    "    pass # TODO exit program\n",
    "    print('good rsites not found in MCS')\n"
   ]
  },
  {
   "cell_type": "code",
   "execution_count": 207,
   "metadata": {},
   "outputs": [
    {
     "data": {
      "text/plain": [
       "('GGTACC', 'GAGCTC')"
      ]
     },
     "execution_count": 207,
     "metadata": {},
     "output_type": "execute_result"
    }
   ],
   "source": [
    "rsite1, rsite2"
   ]
  },
  {
   "cell_type": "markdown",
   "metadata": {},
   "source": [
    "#### 8."
   ]
  },
  {
   "cell_type": "code",
   "execution_count": 269,
   "metadata": {},
   "outputs": [],
   "source": [
    "def load_backbones(path):\n",
    "    backbone_1=\"TCGCGCGTTTCGGTGATGACGGTGAAAACCTCTGACACATGCAGCTCCcGGACTCTAATTTGTGAGTTTAGTATACATGCATTTACTTATAATACAGTTTTTTAGTTTTGCTGGCCGCATCTTCTCAAATATGCTTCCCAGCCTGCTTTTCTGTAACGTTCACCCTCTACCTTAGCATCCCTTCCCTTTGCAAATAGTCCTCTTCCAACAATAATAATGTCAGATCCTGTAGAGACCACATCATCCACGGTTCTATACTGTTGACCCAATGCGTCTCCCTTGTCATCTAAACCCACACCGGGTGTCATAATCAACCAATCGTAACCTTCATCTCTTCCACCCATGTCTCTTTGAGCAATAAAGCCGATAACAAAATCTTTGTCGCTCTTCGCAATGTCAACAGTACCCTTAGTATATTCTCCAGTAGATAGGGAGCCCTTGCATGACAATTCTGCTAACATCAAAAGGCCTCTAGGTTCCTTTGTTACTTCTTCTGCCGCCTGCTTCAAACCGCTAACAATACCTGGGCCCACCACACCGTGTGCATTCGTAATGTCTGCCCATTCTGCTATTCTGTATACACCCGCAGAGTACTGCAATTTGACTGTATTACCAATGTCAGCAAATTTTCTGTCTTCGAAGAGTAAAAAATTGTACTTGGCGGATAATGCCTTTAGCGGCTTAACTGTGCCCTCCATGGAAAAATCAGTCAAGATATCCACATGTGTTTTTAGTAAACAAATTTTGGGACCTAATGCTTCAACTAACTCCAGTAATTCCTTGGTGGTACGAACATCCAATGAAGCACACAAGTTTGTTTGCTTTTCGTGCATGATATTAAATAGCTTGGCAGCAACAGGACTAGGATGAGTAGCAGCACGTTCCTTATATGTAGCTTTCGACATGATTTATCTTCGTTTCCTGCAGGTTTTTGTTCTGTGCAGTTGGGTTAAGAATACTGGGCAATTTCATGTTTCTTCAACACTACATATGCGTATATATACCAATCTAAGTCTGTGCTCCTTCCTTCGTTCTTCCTTCTGTTCGGAGATTACCGAATCAAAAAAATTTCAAGGAAACCGAAATCAAAAAAAAGAATAAAAAAAAAATGATGAATTGAAAAGGTGGTATGGTGCACTCTCAGTACTCCgGGAGACGGTCACAGCTTGTCTGTAAGCGGATGCCGGGAGCAGACAAGCCCGTCAGGGCGCGTCAGCGGGTGTTGGCGGGTGTCGGGGCTGGCTTAACTATGCGGCATCAGAGCAGATTGTACTGAGAGTGCACCATATCGACTACGTCGTTAAGGCCGTTTCTGACAGAGTAAAATTCTTGAGGGAACTTTCACCATTATGGGAAATGGTTCAAGAAGGTATTGACTTAAACTCCATCAAATGGTCAGGTCATTGAGTGTTTTTTATTTGTTGTATTTTTTTTTTTTTAGAGAAAATCCTCCAATATATAAATTAGGAATCATAGTTTCATGATTTTCTGTTACACCTAACTTTTTGTGTGGTGCCCTCCTCCTTGTCAATATTAATGTTAAAGTGCAATTCTTTTTCCTTATCACGTTGAGCCATTAGTATCAATTTGCTTACCTGTATTCCTTTACATCCTCCTTTTTCTCCTTCTTGATAAATGTATGTAGATTGCGTATATAGTTTCGTCTACCCTATGAACATATTCCATTTTGTAATTTCGTGTCGTTTCTATTATGAATTTCATTTATAAAGTTTATGTACAAATATCATAAAAAAAGAGAATCTTTTTAAGCAAGGATTTTCTTAACTTCTTCGGCGACAGCATCACCGACTTCGGTGGTACTGTTGGAACCACCTAAATCACCAGTTCTGATACCTGCATCCAAAACCTTTTTAACTGCATCTTCAATGGCCTTACCTTCTTCAGGCAAGTTCAATGACAATTTCAACATCATTGCAGCAGACAAGATAGTGGCGATAGGGTCAACCTTATTCTTTGGCAAATCTGGAGCAGAACCGTGGCATGGTTCGTACAAACCAAATGCGGTGTTCTTGTCTGGCAAAGAGGCCAAGGACGCAGATGGCAACAAACCCAAGGAACCTGGGATAACGGAGGCTTCATCGGAGATGATATCACCAAACATGTTGCTGGTGATTATAATACCATTTAGGTGGGTTGGGTTCTTAACTAGGATCATGGCGGCAGAATCAATCAATTGATGTTGAACCTTCAATGTAGGGAATTCGTTCTTGATGGTTTCCTCCACAGTTTTTCTCCATAATCTTGAAGAGGCCAAAAGATTAGCTTTATCCAAGGACCAAATAGGCAATGGTGGCTCATGTTGTAGGGCCATGAAAGCGGCCATTCTTGTGATTCTTTGCACTTCTGGAACGGTGTATTGTTCACTATCCCAAGCGACACCATCACCATCGTCTTCCTTTCTCTTACCAAAGTAAATACCTCCCACTAATTCTCTGACAACAACGAAGTCAGTACCTTTAGCAAATTGTGGCTTGATTGGAGATAAGTCTAAAAGAGAGTCGGATGCAAAGTTACATGGTCTTAAGTTGGCGTACAATTGAAGTTCTTTACGGATTTTTAGTAAACCTTGTTCAGGTCTAACACTACCGGTACCCCATTTAGGACCACCCACAGCACCTAACAAAACGGCATCAGCCTTCTTGGAGGCTTCCAGCGCCTCATCTGGAAGTGGAACACCTGTAGCATCGATAGCAGCACCACCAATTAAATGATTTTCGAAATCGAACTTGACATTGGAACGAACATCAGAAATAGCTTTAAGAACCTTAATGGCTTCGGCTGTGATTTCTTGACCAACGTGGTCACCTGGCAAAACGACGATCTTCTTAGGGGCAGACATTAGAATGGTATATCCTTGAAATATATATATATATATTGCTGAAATGTAAAAGGTAAGAAAAGTTAGAAAGTAAGACGATTGCTAACCACCTATTGGAAAAAACAATAGGTCCTTAAATAATATTGTCAACTTCAAGTATTGTGATGCAAGCATTTAGTCATGAACGCTTCTCTATTCTATATGAAAAGCCGGTTCCGGCGCTCTCACCTTTCCTTTTTCTCCCAATTTTTCAGTTGAAAAAGGTATATGCGTCAGGCGACCTCTGAAATTAACAAAAAATTTCCAGTCATCGAATTTGATTCTGTGCGATAGCGCCCCTGTGTGTTCTCGTTATGTTGAGGAAAAAAATAATGGTTGCTAAGAGATTCGAACTCTTGCATCTTACGATACCTGAGTATTCCCACAGTTAACTGCGGTCAAGATATTTCTTGAATCAGGCGCCTTAGACCGCTCGGCCAAACAACCAATTACTTGTTGAGAAATAGAGTATAATTATCCTATAAATATAACGTTTTTGAACACACATGAACAAGGAAGTACAGGACAATTGATTTTGAAGAGAATGTGGATTTTGATGTAATTGTTGGGATTCCATTTTTAATAAGGCAATAATATTAGGTATGTAGATATACTAGAAGTTCTCCTCGACCGGTCGATATGCGGTGTGAAATACCGCACAGATGCGTAAGGAGAAAATACCGCATCAGGAAATTGTAAgCGTTAATATTTTGTTAAAATTCGCGTTAAATTTTTGTTAAATCAGCTCATTTTTTAACCAATAGGCCGAAATCGGCAAAATCCCTTATAAATCAAAAGAATAGACCGAGATAGGGTTGAGTGTTGTTCCAGTTTGGAACAAGAGTCCACTATTAAAGAACGTGGACTCCAACGTCAAAGGGCGAAAAACCGTCTATCAGGGCGATGGCCCACTACGTGAACCATCACCCTAATCAAGTTTTTTGGGGTCGAGGTGCCGTAAAGCACTAAATCGGAACCCTAAAGGGAGCCCCCGATTTAGAGCTTGACGGGGAAAGCCGGCGAACGTGGCGAGAAAGGAAGGGAAGAAAGCGAAAGGAGCGGGCGCTAGGGCGCTGGCAAGTGTAGCGGTCACGCTGCGCGTAACCACCACACCCGCCGCGCTTAATGCGCCGCTACAGGGCGCGTCCATTCGCCATTCAGGCTGCGCAACTGTTGGGAAGGGCGATCGGTGCGGGCCTCTTCGCTATTACGCCAGCTGGCGAAAGGGGGATGTGCTGCAAGGCGATTAAGTTGGGTAACGCCAGGGTTTTCCCAGTCACGACGTTGTAAAACGACGGCCAGTGAGCGCGC\"\n",
    "    backbone_2=\"GCGCGCTTGGCGTAATCATGGTCATAGCTGTTTCCTGTGTGAAATTGTTATCCGCTCACAATTCCACACAACATAcGAGCCGGAAGCATAAAGTGTAAAGCCTGGGGTGCCTAATGAGTGAGcTAACTCACATTAATTGCGTTGCGCTCACTGCCCGCTTTCCAGTCGGGAAACCTGTCGTGCCAGCTGCATTAATGAATCGGCCAACGCGCGGGGAGAGGCGGTTTGCGTATTGGGCGCTCTTCCGCTTCCTCGCTCACTGACTCGCTGCGCTCGGTCGTTCGGCTGCGGCGAGCGGTATCAGCTCACTCAAAGGCGGTAATACGGTTATCCACAGAATCAGGGGATAACGCAGGAAAGAACATGTGAGCAAAAGGCCAGCAAAAGGCCAGGAACCGTAAAAAGGCCGCGTTGCTGGCGTTTTTCCATAGGCTCCGCCCCCCTGACGAGCATCACAAAAATCGACGCTCAAGTCAGAGGTGGCGAAACCCGACAGGACTATAAAGATACCAGGCGTTTCCCCCTGGAAGCTCCCTCGTGCGCTCTCCTGTTCCGACCCTGCCGCTTACCGGATACCTGTCCGCCTTTCTCCCTTCGGGAAGCGTGGCGCTTTCTCATAGCTCACGCTGTAGGTATCTCAGTTCGGTGTAGGTCGTTCGCTCCAAGCTGGGCTGTGTGCACGAACCCCCCGTTCAGCCCGACCGCTGCGCCTTATCCGGTAACTATCGTCTTGAGTCCAACCCGGTAAGACACGACTTATCGCCACTGGCAGCAGCCACTGGTAACAGGATTAGCAGAGCGAGGTATGTAGGCGGTGCTACAGAGTTCTTGAAGTGGTGGCCTAACTACGGCTACACTAGAAGGACAGTATTTGGTATCTGCGCTCTGCTGAAGCCAGTTACCTTCGGAAAAAGAGTTGGTAGCTCTTGATCCGGCAAACAAACCACCGCTGGTAGCGGTGGTTTTTTTGTTTGCAAGCAGCAGATTACGCGCAGAAAAAAAGGATCTCAAGAAGATCCTTTGATCTTTTCTACGGGGTCTGACGCTCAGTGGAACGAAAACTCACGTTAAGGGATTTTGGTCATGAGATTATCAAAAAGGATCTTCACCTAGATCCTTTTAAATTAAAAATGAAGTTTTAAATCAATCTAAAGTATATATGAGTAAACTTGGTCTGACAGTTACCAATGCTTAATCAGTGAGGCACCTATCTCAGCGATCTGTCTATTTCGTTCATCCATAGTTGCCTGACTCCCCGTCGTGTAGATAACTACGATACGGGAGGGCTTACCATCTGGCCCCAGTGCTGCAATGATACCGCGAGACCCACGCTCACCGGCTCCAGATTTATCAGCAATAAACCAGCCAGCCGGAAGGGCCGAGCGCAGAAGTGGTCCTGCAACTTTATCCGCCTCCATCCAGTCTATTAATTGTTGCCGGGAAGCTAGAGTAAGTAGTTCGCCAGTTAATAGTTTGCGCAACGTTGTTGCCATTGCTACAGGCATCGTGGTGTCACGCTCGTCGTTTGGTATGGCTTCATTCAGCTCCGGTTCCCAACGATCAAGGCGAGTTACATGATCCCCCATGTTGTGCAAAAAAGCGGTTAGCTCCTTCGGTCCTCCGATCGTTGTCAGAAGTAAGTTGGCCGCAGTGTTATCACTCATGGTTATGGCAGCACTGCATAATTCTCTTACTGTCATGCCATCCGTAAGATGCTTTTCTGTGACTGGTGAGTACTCAACCAAGTCATTCTGAGAATAGTGTATGCGGCGACCGAGTTGCTCTTGCCCGGCGTCAATACGGGATAATACCGCGCCACATAGCAGAACTTTAAAAGTGCTCATCATTGGAAAACGTTCTTCGGGGCGAAAACTCTCAAGGATCTTACCGCTGTTGAGATCCAGTTCGATGTAACCCACTCGTGCACCCAACTGATCTTCAGCATCTTTTACTTTCACCAGCGTTTCTGGGTGAGCAAAAACAGGAAGGCAAAATGCCGCAAAAAAGGGAATAAGGGCGACACGGAAATGTTGAATACTCATACTCTTCCTTTTTCAATATTATTGAAGCATTTATCAGGGTTATTGTCTCATGAGCGGATACATATTTGAATGTATTTAGAAAAATAAACAAATAGGGGTTCCGCGCACATTTCCCCGAAAAGTGCCACCTGACGTCTAAGAAACCATTATTATCATGACATTAACCTATAAAAATAGGCGTATCACGAGGCCCTTTCGTC\"\n",
    "\n",
    "    return [backbone_1,backbone_2]\n",
    "\n",
    "def assemble_plasmid(backbone, sequence):\n",
    "    return sequence + backbone + sequence\n",
    "    "
   ]
  },
  {
   "cell_type": "code",
   "execution_count": 209,
   "metadata": {},
   "outputs": [
    {
     "name": "stdout",
     "output_type": "stream",
     "text": [
      "plasmid found\n"
     ]
    }
   ],
   "source": [
    "backbones = load_backbones('')\n",
    "for backbone in backbones:\n",
    "    full_plasmid = assemble_plasmid(backbone, full_sequence)\n",
    "    if full_plasmid.count(rsite0) == 2:\n",
    "        print('plasmid found')\n",
    "        break\n",
    "\n"
   ]
  },
  {
   "cell_type": "code",
   "execution_count": 199,
   "metadata": {},
   "outputs": [
    {
     "data": {
      "text/plain": [
       "3"
      ]
     },
     "execution_count": 199,
     "metadata": {},
     "output_type": "execute_result"
    }
   ],
   "source": [
    "full_plasmid.count(rsite0)"
   ]
  },
  {
   "cell_type": "markdown",
   "metadata": {},
   "source": [
    "# FULL CODE"
   ]
  },
  {
   "cell_type": "code",
   "execution_count": 293,
   "metadata": {},
   "outputs": [],
   "source": [
    "def generate_full_sequence(Gene, rsite_position, rsite, minhomology, alpha, linker, FPG, gene_position, Left_of_gene='', Right_of_gene=''): \n",
    "    #TODO 5p i 3p with respect to the main gene sequence\n",
    "\n",
    "    if gene_position not in ['left','right']:\n",
    "        raise ValueError('Wrong gene_position value')\n",
    "\n",
    "    if gene_position == 'left':\n",
    "        X = Gene[rsite_position-minhomology:-3] #We retrieve the 5p end of the gene without the stop codon\n",
    "        alphaX = Right_of_gene[:int(alpha*len(X))]\n",
    "        full_sequence = X + linker + FPG + alphaX + 'TGA' #we add the stop codon at the end\n",
    "    else:\n",
    "        # TODO check\n",
    "        X = Gene[:rsite_position+len(rsite)+minhomology]\n",
    "        alphaX = Left_of_gene[-int(alpha*len(X)):]\n",
    "        full_sequence = alphaX + FPG + linker + X \n",
    "\n",
    "    return full_sequence\n",
    "\n",
    "\n",
    "def find_compatible_MCS_rsites(MCS, rsitelist, enamelist, full_sequence):\n",
    "\n",
    "    rsite1 = ''\n",
    "    rsite2 = ''\n",
    "\n",
    "    msc_rsitelist_sorted_right, _, _ = rsite_search(MCS, rsitelist, enamelist, starting_position='right')\n",
    "    for i, rsite in enumerate(msc_rsitelist_sorted_right):\n",
    "        if rsite not in full_sequence:\n",
    "            rsite1 = rsite\n",
    "            break\n",
    "\n",
    "    msc_rsitelist_sorted_left, _, _ = rsite_search(MCS, rsitelist, enamelist, starting_position='left')\n",
    "    for i, rsite in enumerate(msc_rsitelist_sorted_left):\n",
    "        if rsite not in full_sequence:\n",
    "            rsite2 = rsite\n",
    "            break\n",
    "        \n",
    "    return rsite1, rsite2"
   ]
  },
  {
   "cell_type": "code",
   "execution_count": 294,
   "metadata": {},
   "outputs": [
    {
     "name": "stdout",
     "output_type": "stream",
     "text": [
      "0 TCATGA\n",
      "bad backbone\n",
      "bad backbone\n",
      "1 CAATTG\n",
      "bad backbone\n",
      "plasmid found\n"
     ]
    }
   ],
   "source": [
    "# 1. and 2.\n",
    "genefile   = './Chris_code/clb2_pm_1000.txt'\n",
    "enzymefile = './Chris_code/raw_enzyme_list.txt'\n",
    "minhomology = 100\n",
    "alpha = 1\n",
    "\n",
    "Left_of_gene, Gene, Right_of_gene = read_gene_string(genefile)\n",
    "rsitelist, enamelist = read_enzyme_list(enzymefile)\n",
    "\n",
    "linker = load_linker('')\n",
    "FPG = load_FPG('')\n",
    "\n",
    "\n",
    "# 3.\n",
    "gene_rsitelist_sorted, gene_enamelist_sorted, gene_rsite_position_list_sorted = rsite_search(\n",
    "    Gene, rsitelist, enamelist, starting_position='right', minhomology=100)\n",
    "\n",
    "\n",
    "\n",
    "for i in range(len(gene_rsitelist_sorted)):\n",
    "\n",
    "\n",
    "    # 4. and 5.\n",
    "    rsite0 = gene_rsitelist_sorted[i]\n",
    "    rsite0_pos = gene_rsite_position_list_sorted[i]\n",
    "    ename0 = gene_enamelist_sorted[i]\n",
    "    print(i, rsite0)\n",
    "\n",
    "    full_sequence = generate_full_sequence(\n",
    "        Gene, rsite0_pos, rsite, minhomology, alpha, linker, FPG, gene_position='left', Right_of_gene=Right_of_gene)\n",
    "    if full_sequence.count(rsite0) != 1:\n",
    "        print('rsite {} is not unique in the gene'.format(rsite0))\n",
    "        continue\n",
    "    \n",
    "\n",
    "    # 7.\n",
    "    MCS = load_MCS('')\n",
    "    # Search for the most outer CS from MCS that are not in 4. \n",
    "    rsite1, rsite2 = find_compatible_MCS_rsites(MCS, rsitelist, enamelist, full_sequence)\n",
    "    if not rsite1 or not rsite2:\n",
    "        print('good rsites not found in MCS, rsites: ', rsite1, rsite2)\n",
    "        # If not potential cutsites were find in MCS abort the program (finding another cutsite for gene integration would make the sequence for cloning longer)\n",
    "        break\n",
    "    \n",
    "    \n",
    "    # 8.\n",
    "    backbones = load_backbones('')\n",
    "    plasmid_found = False\n",
    "    for backbone in backbones:\n",
    "        full_plasmid = assemble_plasmid(backbone, full_sequence)\n",
    "        if full_plasmid.count(rsite0) == 2:\n",
    "            print('plasmid found')\n",
    "            plasmid_found = True\n",
    "            break\n",
    "        else:\n",
    "            print('bad backbone')\n",
    "\n",
    "    if plasmid_found:\n",
    "        break\n"
   ]
  },
  {
   "cell_type": "code",
   "execution_count": 2,
   "metadata": {},
   "outputs": [],
   "source": [
    "def dna_to_protein(dna):\n",
    "     #Translates DNA into a Protein. it truncates the 3' tail that doesn't make a full codon\n",
    "     #STOP is denoted by '*'\n",
    "     \n",
    "\tdna = dna.upper()\n",
    "\n",
    "\tgenetic_code = {\n",
    "        'ATA':'I', 'ATC':'I', 'ATT':'I', 'ATG':'M',\n",
    "        'ACA':'T', 'ACC':'T', 'ACG':'T', 'ACT':'T',\n",
    "        'AAC':'N', 'AAT':'N', 'AAA':'K', 'AAG':'K',\n",
    "        'AGC':'S', 'AGT':'S', 'AGA':'R', 'AGG':'R',                 \n",
    "        'CTA':'L', 'CTC':'L', 'CTG':'L', 'CTT':'L',\n",
    "        'CCA':'P', 'CCC':'P', 'CCG':'P', 'CCT':'P',\n",
    "        'CAC':'H', 'CAT':'H', 'CAA':'Q', 'CAG':'Q',\n",
    "        'CGA':'R', 'CGC':'R', 'CGG':'R', 'CGT':'R',\n",
    "        'GTA':'V', 'GTC':'V', 'GTG':'V', 'GTT':'V',\n",
    "        'GCA':'A', 'GCC':'A', 'GCG':'A', 'GCT':'A',\n",
    "        'GAC':'D', 'GAT':'D', 'GAA':'E', 'GAG':'E',\n",
    "        'GGA':'G', 'GGC':'G', 'GGG':'G', 'GGT':'G',\n",
    "        'TCA':'S', 'TCC':'S', 'TCG':'S', 'TCT':'S',\n",
    "        'TTC':'F', 'TTT':'F', 'TTA':'L', 'TTG':'L',\n",
    "        'TAC':'Y', 'TAT':'Y', 'TAA':'*', 'TAG':'*',\n",
    "        'TGC':'C', 'TGT':'C', 'TGA':'*', 'TGG':'W',\n",
    "    }\n",
    "\tprotein = ''\n",
    "\n",
    "\n",
    "\tif(len(dna)%3 != 0):\n",
    "\t\tdna = dna[: -(len(dna)%3)]\n",
    "\n",
    "\tfor i in range(0, len(dna), 3):\n",
    "\t\tcode = dna[i:i+3]\n",
    "\t\tif(code in genetic_code.keys()):\n",
    "\t\t    protein += genetic_code[code]\n",
    "\t\telse:\n",
    "\t\t\tprotein = ''\n",
    "\t\t\tbreak\n",
    "\t\n",
    "\treturn protein\n"
   ]
  },
  {
   "cell_type": "code",
   "execution_count": 3,
   "metadata": {},
   "outputs": [],
   "source": [
    "def  find_additional_cutsites(plasmid, rsitelist, enamelist):\n",
    "#this function finds all appropropriate cutsites that could be added between different pieces of the insert in the plasmid (e.g. between the gene and the linker or between the linker and the FPG etc)\n",
    "#a good cutsite has to fullfill three criteria:\n",
    "#1. Divisible by 3 (this could be circuimvented by accomidating the linker length)\n",
    "#2. Does not cut the final plasmid\n",
    "#3. Does not introduce a stop codon\n",
    "\n",
    "    good_rsite_list = []\n",
    "    good_enzyme_list = []\n",
    "    for rsite, enzyme in zip(rsitelist, enamelist):\n",
    "        if len(rsite)%3 == 0 and plasmid.count(rsite) == 0 and dna_to_protein(rsite).count('*') == 0:\n",
    "            good_rsite_list.append(rsite)\n",
    "            good_enzyme_list.append(enzyme)\n",
    "\n",
    "    return good_rsite_list, good_enzyme_list"
   ]
  },
  {
   "cell_type": "code",
   "execution_count": 4,
   "metadata": {},
   "outputs": [
    {
     "data": {
      "text/plain": [
       "1"
      ]
     },
     "execution_count": 4,
     "metadata": {},
     "output_type": "execute_result"
    }
   ],
   "source": [
    "dna_to_protein('TGCTACtga').count('*')"
   ]
  },
  {
   "cell_type": "code",
   "execution_count": null,
   "metadata": {},
   "outputs": [],
   "source": []
  }
 ],
 "metadata": {
  "interpreter": {
   "hash": "841159ca92e470d2c15efac886a071402c9a594398da0f615defd04595a3ae06"
  },
  "kernelspec": {
   "display_name": "Python 3.6.5 64-bit ('base': conda)",
   "name": "python3"
  },
  "language_info": {
   "codemirror_mode": {
    "name": "ipython",
    "version": 3
   },
   "file_extension": ".py",
   "mimetype": "text/x-python",
   "name": "python",
   "nbconvert_exporter": "python",
   "pygments_lexer": "ipython3",
   "version": "3.6.5"
  },
  "orig_nbformat": 4
 },
 "nbformat": 4,
 "nbformat_minor": 2
}
