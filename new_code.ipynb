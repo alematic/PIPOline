{
 "cells": [
  {
   "cell_type": "code",
   "execution_count": 2,
   "metadata": {},
   "outputs": [],
   "source": [
    "import sys\n",
    "import numpy as np\n",
    "import re"
   ]
  },
  {
   "cell_type": "code",
   "execution_count": 3,
   "metadata": {},
   "outputs": [],
   "source": [
    "# Read in the gene file +/- 1000 base pairs and break it up into 3 pieces\n",
    "def read_gene_string(genefile):\n",
    "\n",
    "    # Import Gene -+1000 base pairs - clean in the same way\n",
    "    with open(genefile, 'r') as file:\n",
    "        Gene_plus = file.read().replace('\\n', '')\n",
    "\n",
    "    # Clean away numbers and spaces\n",
    "    Gene_plus=Gene_plus.replace(' ', '') # spaces\n",
    "    remove_digits=str.maketrans('', '', '0123456789')\n",
    "    Gene_plus=Gene_plus.translate(remove_digits)   # numbers\n",
    "    Left_of_gene=Gene_plus[0:1000] # 1000 bp's to the left of the Gene\n",
    "    Right_of_gene=Gene_plus[(len(Gene_plus)-1000):] # 1000 bp's to the right of the Gene (includes 3' UTR segment)\n",
    "    Gene=Gene_plus[1000:(len(Gene_plus)-1000)]\n",
    "    \n",
    "    return (Left_of_gene, Gene, Right_of_gene)"
   ]
  },
  {
   "cell_type": "code",
   "execution_count": 58,
   "metadata": {},
   "outputs": [],
   "source": [
    "# Read in and process the enzyme list\n",
    "def read_enzyme_list(enzymefile):\n",
    "\n",
    "    with open(enzymefile) as file:\n",
    "        lines=file.readlines()\n",
    "        enzymes=[line.rstrip() for line in lines]\n",
    "        \n",
    "    rsitelist = []\n",
    "    enamelist = []\n",
    "    if (len(enzymes) % 2) == 1:\n",
    "        print('Enzyme list has an odd number of lines. Enzyme list should be a list of enzyme names and restriction sites in each line.')\n",
    "    else:\n",
    "        for linei in range(1, len(enzymes), 2):\n",
    "            rsite = enzymes[linei]\n",
    "            ename = enzymes[linei-1]\n",
    "            # check length of restriction site\n",
    "            if len(rsite) == 6 or len(rsite) == 8:\n",
    "                # check whether any non-ACGT characters\n",
    "                if len(re.sub('[ACGT]', '', rsite)) == 0:\n",
    "                    #check whether palindromic so can focus on only one strand\n",
    "                    complement = {'A': 'T', 'C': 'G', 'G': 'C', 'T': 'A'}\n",
    "                    reverse_complement = \"\".join(complement.get(base, base) for base in reversed(rsite))\n",
    "                    if rsite==reverse_complement:\n",
    "                        # add name only if enzyme already in the list\n",
    "                        rsiteexists=0 \n",
    "                        for linej in range(len(rsitelist)):\n",
    "                            if rsitelist[linej] == rsite:\n",
    "                                rsiteexists=1\n",
    "                                enamelist[linej] = enamelist[linej]+', '+ename\n",
    "                                break\n",
    "                        #add new entry if not yet there\n",
    "                        if rsiteexists==0:\n",
    "                            rsitelist.append(rsite)\n",
    "                            enamelist.append(ename)\n",
    "    return (np.array(rsitelist), np.array(enamelist))"
   ]
  },
  {
   "cell_type": "code",
   "execution_count": 59,
   "metadata": {},
   "outputs": [],
   "source": [
    "    genefile   = './Chris_code/clb2_pm_1000.txt'\n",
    "    enzymefile = './Chris_code/raw_enzyme_list.txt'\n",
    "    minhomology = 100"
   ]
  },
  {
   "cell_type": "code",
   "execution_count": 115,
   "metadata": {},
   "outputs": [],
   "source": [
    "Left_of_gene, Gene, Right_of_gene = read_gene_string(genefile)\n",
    "rsitelist, enamelist = read_enzyme_list(enzymefile)"
   ]
  },
  {
   "cell_type": "markdown",
   "metadata": {},
   "source": [
    "### Loop"
   ]
  },
  {
   "cell_type": "code",
   "execution_count": 116,
   "metadata": {},
   "outputs": [
    {
     "name": "stdout",
     "output_type": "stream",
     "text": [
      "AGATCT AGATCT\n"
     ]
    }
   ],
   "source": [
    "# Right end of gene and left direction of search (case 1. of sahand graph)\n",
    "rsite_position_list = np.array([Gene[:-minhomology].rfind(rsite) for rsite in rsitelist])\n",
    "# rsite_position_list\n",
    "print(rsitelist[14], Gene[rsite_position_list[14]:rsite_position_list[14]+len(rsitelist[14])])"
   ]
  },
  {
   "cell_type": "code",
   "execution_count": 114,
   "metadata": {},
   "outputs": [
    {
     "data": {
      "text/plain": [
       "(array(['TCATGA', 'CAATTG', 'GTATAC', 'CAGCTG', 'GATATC', 'TTCGAA',\n",
       "        'TTTAAA', 'AATATT', 'AGATCT', 'TGTACA', 'ACTAGT'], dtype='<U8'),\n",
       " array(['BspHI', 'MfeI, MfeI-HFÂ®', 'BstZ17I, BstZ17I-HFÂ®',\n",
       "        'PvuII, PvuII-HFÂ®', 'EcoRV, EcoRV-HFÂ®', 'BstBI', 'DraI',\n",
       "        'SspI, SspI-HFÂ®', 'BglII', 'BsrGI, BsrGI-HFÂ®', 'SpeI, SpeI-HFÂ®'],\n",
       "       dtype='<U32'),\n",
       " array([1355, 1348, 1289, 1213, 1160, 1103, 1043,  765,  746,   65,   39]))"
      ]
     },
     "execution_count": 114,
     "metadata": {},
     "output_type": "execute_result"
    }
   ],
   "source": [
    "# sort and remove not matched rsites\n",
    "sorted_inds = np.argsort(-rsite_position_list)\n",
    "rsite_position_list = rsite_position_list[sorted_inds]\n",
    "matched_inds = (rsite_position_list != -1)\n",
    "rsite_position_list = rsite_position_list[matched_inds]\n",
    "\n",
    "# apply sort and remove inds to rsitelist and enamelist\n",
    "rsitelist = rsitelist[sorted_inds][matched_inds]\n",
    "enamelist = enamelist[sorted_inds][matched_inds]\n",
    "\n",
    "rsitelist, enamelist, rsite_position_list"
   ]
  },
  {
   "cell_type": "code",
   "execution_count": 109,
   "metadata": {},
   "outputs": [
    {
     "data": {
      "text/plain": [
       "1348"
      ]
     },
     "execution_count": 109,
     "metadata": {},
     "output_type": "execute_result"
    }
   ],
   "source": [
    "Gene.rfind('CAATTG')"
   ]
  }
 ],
 "metadata": {
  "interpreter": {
   "hash": "fab470faa6a741d6758e1edc9e224183f3faf58e42fae202dfcbed56dc600bc6"
  },
  "kernelspec": {
   "display_name": "Python 3.9.6 64-bit ('yeaz_env': conda)",
   "language": "python",
   "name": "python3"
  },
  "language_info": {
   "codemirror_mode": {
    "name": "ipython",
    "version": 3
   },
   "file_extension": ".py",
   "mimetype": "text/x-python",
   "name": "python",
   "nbconvert_exporter": "python",
   "pygments_lexer": "ipython3",
   "version": "3.9.6"
  },
  "orig_nbformat": 4
 },
 "nbformat": 4,
 "nbformat_minor": 2
}
