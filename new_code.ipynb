{
 "cells": [
  {
   "cell_type": "code",
   "execution_count": 1,
   "source": [
    "import sys\r\n",
    "import numpy as np\r\n",
    "import re"
   ],
   "outputs": [],
   "metadata": {}
  },
  {
   "cell_type": "code",
   "execution_count": 2,
   "source": [
    "# Read in the gene file +/- 1000 base pairs and break it up into 3 pieces\r\n",
    "def read_gene_string(genefile):\r\n",
    "\r\n",
    "    # Import Gene -+1000 base pairs - clean in the same way\r\n",
    "    with open(genefile, 'r') as file:\r\n",
    "        Gene_plus = file.read().replace('\\n', '')\r\n",
    "\r\n",
    "    # Clean away numbers and spaces\r\n",
    "    Gene_plus = Gene_plus.replace(' ', '') # spaces\r\n",
    "    remove_digits = str.maketrans('', '', '0123456789')\r\n",
    "    Gene_plus = Gene_plus.translate(remove_digits)   # numbers\r\n",
    "    Left_of_gene = Gene_plus[0:1000] # 1000 bp's to the left of the Gene\r\n",
    "    Right_of_gene = Gene_plus[(len(Gene_plus)-1000):] # 1000 bp's to the right of the Gene (includes 3' UTR segment)\r\n",
    "    Gene = Gene_plus[1000:(len(Gene_plus)-1000)]\r\n",
    "    \r\n",
    "    return (Left_of_gene, Gene, Right_of_gene)"
   ],
   "outputs": [],
   "metadata": {}
  },
  {
   "cell_type": "code",
   "execution_count": 3,
   "source": [
    "# Read in and process the enzyme list\r\n",
    "def read_enzyme_list(enzymefile):\r\n",
    "\r\n",
    "    with open(enzymefile) as file:\r\n",
    "        lines=file.readlines()\r\n",
    "        enzymes=[line.rstrip() for line in lines]\r\n",
    "        \r\n",
    "    rsitelist = []\r\n",
    "    enamelist = []\r\n",
    "    if (len(enzymes) % 2) == 1:\r\n",
    "        print('Enzyme list has an odd number of lines. Enzyme list should be a list of enzyme names and restriction sites in each line.')\r\n",
    "    else:\r\n",
    "        for linei in range(1, len(enzymes), 2):\r\n",
    "            rsite = enzymes[linei]\r\n",
    "            ename = enzymes[linei-1]\r\n",
    "            # check length of restriction site\r\n",
    "            if len(rsite) == 6 or len(rsite) == 8:\r\n",
    "                # check whether any non-ACGT characters\r\n",
    "                if len(re.sub('[ACGT]', '', rsite)) == 0:\r\n",
    "                    #check whether palindromic so can focus on only one strand\r\n",
    "                    complement = {'A': 'T', 'C': 'G', 'G': 'C', 'T': 'A'}\r\n",
    "                    reverse_complement = \"\".join(complement.get(base, base) for base in reversed(rsite))\r\n",
    "                    if rsite==reverse_complement:\r\n",
    "                        # add name only if enzyme already in the list\r\n",
    "                        rsiteexists=0 \r\n",
    "                        for linej in range(len(rsitelist)):\r\n",
    "                            if rsitelist[linej] == rsite:\r\n",
    "                                rsiteexists=1\r\n",
    "                                enamelist[linej] = enamelist[linej]+', '+ename\r\n",
    "                                break\r\n",
    "                        #add new entry if not yet there\r\n",
    "                        if rsiteexists==0:\r\n",
    "                            rsitelist.append(rsite)\r\n",
    "                            enamelist.append(ename)\r\n",
    "    return (np.array(rsitelist), np.array(enamelist))"
   ],
   "outputs": [],
   "metadata": {}
  },
  {
   "cell_type": "code",
   "execution_count": 211,
   "source": [
    "genefile   = './Chris_code/clb2_pm_1000.txt'\r\n",
    "enzymefile = './Chris_code/raw_enzyme_list.txt'\r\n",
    "minhomology = 100\r\n",
    "alpha = 1"
   ],
   "outputs": [],
   "metadata": {}
  },
  {
   "cell_type": "code",
   "execution_count": 109,
   "source": [
    "Left_of_gene, Gene, Right_of_gene = read_gene_string(genefile)\r\n",
    "rsitelist, enamelist = read_enzyme_list(enzymefile)"
   ],
   "outputs": [],
   "metadata": {}
  },
  {
   "cell_type": "markdown",
   "source": [
    "### Loop"
   ],
   "metadata": {}
  },
  {
   "cell_type": "markdown",
   "source": [
    "#### 3."
   ],
   "metadata": {}
  },
  {
   "cell_type": "code",
   "execution_count": 241,
   "source": [
    "# 3.\r\n",
    "def right_search(Gene, rsitelist, enamelist, minhomology=0):\r\n",
    "    # find right-most occurances of given rsites in Gene\r\n",
    "    if minhomology>0:\r\n",
    "        Gene = Gene[:-minhomology]\r\n",
    "    rsite_position_list = np.array([Gene.rfind(rsite) for rsite in rsitelist])\r\n",
    "\r\n",
    "    # sort and remove not matched rsites\r\n",
    "    sorted_inds = np.argsort(-rsite_position_list)\r\n",
    "    rsite_position_list = rsite_position_list[sorted_inds]\r\n",
    "    matched_inds = (rsite_position_list != -1)\r\n",
    "    rsite_position_list = rsite_position_list[matched_inds]\r\n",
    "\r\n",
    "    # apply sort and remove inds to rsitelist and enamelist\r\n",
    "    rsitelist = rsitelist[sorted_inds][matched_inds]\r\n",
    "    enamelist = enamelist[sorted_inds][matched_inds]\r\n",
    "\r\n",
    "    return rsitelist, enamelist, rsite_position_list\r\n",
    "\r\n",
    "\r\n",
    "\r\n",
    "def left_search(Gene, rsitelist, enamelist, minhomology=0):\r\n",
    "    # find right-most occurances of given rsites in Gene\r\n",
    "    rsite_position_list = np.array([Gene[minhomology:].find(rsite) for rsite in rsitelist])\r\n",
    "\r\n",
    "    # sort and remove not matched rsites\r\n",
    "    sorted_inds = np.argsort(rsite_position_list)\r\n",
    "    rsite_position_list = rsite_position_list[sorted_inds]\r\n",
    "    matched_inds = (rsite_position_list != -1)\r\n",
    "    rsite_position_list = rsite_position_list[matched_inds] + minhomology\r\n",
    "\r\n",
    "    # apply sort and remove inds to rsitelist and enamelist\r\n",
    "    rsitelist = rsitelist[sorted_inds][matched_inds]\r\n",
    "    enamelist = enamelist[sorted_inds][matched_inds]\r\n",
    "\r\n",
    "    return rsitelist, enamelist, rsite_position_list\r\n",
    "\r\n",
    "\r\n",
    "\r\n",
    "\r\n",
    "def rsite_search(Gene, rsitelist, enamelist, starting_position, minhomology=0):\r\n",
    "\r\n",
    "    # TODO for deletion search left_of_gene and right_of_gene instead of gene\r\n",
    "\r\n",
    "    if starting_position not in ['left','right']:\r\n",
    "        raise ValueError('Wrong starting_position value')\r\n",
    "\r\n",
    "    # find left(right)-most occurances of given rsites in Gene and sort them\r\n",
    "    if starting_position == 'left':\r\n",
    "        Gene_cut = Gene[minhomology:]\r\n",
    "        rsite_position_list = np.array([Gene_cut.find(rsite) for rsite in rsitelist])\r\n",
    "        sorted_inds = np.argsort(rsite_position_list)\r\n",
    "    elif starting_position == 'right':\r\n",
    "        Gene_cut = Gene[:len(Gene)-minhomology]\r\n",
    "        rsite_position_list = np.array([Gene_cut.rfind(rsite) for rsite in rsitelist]) \r\n",
    "        sorted_inds = np.argsort(-rsite_position_list)\r\n",
    "\r\n",
    "    # remove not matched rsites\r\n",
    "    rsite_position_list = rsite_position_list[sorted_inds]\r\n",
    "    matched_inds = (rsite_position_list != -1)\r\n",
    "    rsite_position_list = rsite_position_list[matched_inds]\r\n",
    "    if starting_position == 'left':\r\n",
    "        rsite_position_list += minhomology\r\n",
    "\r\n",
    "    # apply sort and remove inds to rsitelist and enamelist\r\n",
    "    rsitelist = rsitelist[sorted_inds][matched_inds]\r\n",
    "    enamelist = enamelist[sorted_inds][matched_inds]\r\n",
    "\r\n",
    "    return rsitelist, enamelist, rsite_position_list"
   ],
   "outputs": [],
   "metadata": {}
  },
  {
   "cell_type": "code",
   "execution_count": 159,
   "source": [
    "gene_rsitelist_sorted, gene_enamelist_sorted, gene_rsite_position_list_sorted = right_search(Gene, rsitelist, enamelist, minhomology=100)\r\n",
    "gene_rsitelist_sorted, gene_enamelist_sorted, gene_rsite_position_list_sorted"
   ],
   "outputs": [
    {
     "output_type": "stream",
     "name": "stdout",
     "text": [
      "asdsad\n"
     ]
    },
    {
     "output_type": "execute_result",
     "data": {
      "text/plain": [
       "(array(['TCATGA', 'CAATTG', 'GTATAC', 'CAGCTG', 'GATATC', 'TTCGAA',\n",
       "        'TTTAAA', 'AATATT', 'AGATCT', 'TGTACA', 'ACTAGT'], dtype='<U8'),\n",
       " array(['BspHI', 'MfeI, MfeI-HFÂ®', 'BstZ17I, BstZ17I-HFÂ®',\n",
       "        'PvuII, PvuII-HFÂ®', 'EcoRV, EcoRV-HFÂ®', 'BstBI', 'DraI',\n",
       "        'SspI, SspI-HFÂ®', 'BglII', 'BsrGI, BsrGI-HFÂ®', 'SpeI, SpeI-HFÂ®'],\n",
       "       dtype='<U32'),\n",
       " array([1355, 1348, 1289, 1213, 1160, 1103, 1043,  765,  746,   65,   39]))"
      ]
     },
     "metadata": {},
     "execution_count": 159
    }
   ],
   "metadata": {}
  },
  {
   "cell_type": "markdown",
   "source": [
    "#### 4. and 5."
   ],
   "metadata": {}
  },
  {
   "cell_type": "code",
   "execution_count": 156,
   "source": [
    "# TODO load as parameters and load from files\r\n",
    "def load_linker(path):\r\n",
    "    return 'GGTGCTTCTGTTGGTGCTTCTGTTTCTGTTGGTCCGC'\r\n",
    "\r\n",
    "def load_FPG(path):\r\n",
    "    mCherry = 'atggtgagcaagggcgaggaggataacatggccatcatcaaggagttcatgcgcttcaaggtgcatatggagggctccgtgaacggccacgagttcgagatcgagggcgagggcgagggccgcccctacgagggcacccagaccgccaagctgaaggtgaccaagggtggccccctgcccttcgcctgggacatcctgtcccctcagttcatgtacggctccaaggcctacgtgaagcaccccgccgacatccccgactacttgaagctgtccttccccgagggcttcaagtgggagcgcgtgatgaacttcgaggacggcggcgtggtgaccgtgacccaggactcctccctgcaggacggcgagttcatctacaaggtgaagctgcgcggcaccaacttcccctccgacggccccgtaatgcagaagaagaccatgggctgggaggcctcctccgagcggatgtaccccgaggacggcgccctgaagggcgagatcaagcagaggctgaagctgaaggacggcggccactacgacgctgaggtcaagaccacctacaaggccaagaagcccgtgcagctgcccggcgcctacaacgtcaacatcaagttggacatcacctcccacaacgaggactacaccatcgtggaacagtacgaacgcgccgagggccgccactccaccggcggcatggacgagctgtactag'\r\n",
    "    return mCherry.upper()"
   ],
   "outputs": [],
   "metadata": {}
  },
  {
   "cell_type": "code",
   "execution_count": 203,
   "source": [
    "# 4. and 5.\r\n",
    "\r\n",
    "ind = 1\r\n",
    "\r\n",
    "rsite0 = gene_rsitelist_sorted[ind]\r\n",
    "rsite0_pos = gene_rsite_position_list_sorted[ind]\r\n",
    "ename0 = gene_enamelist_sorted[ind]\r\n",
    "X = Gene[rsite0_pos-minhomology:-3]\r\n",
    "alphaX = Right_of_gene[:int(alpha*len(X))]\r\n",
    "\r\n",
    "\r\n",
    "X.find(rsite0)==minhomology"
   ],
   "outputs": [
    {
     "output_type": "execute_result",
     "data": {
      "text/plain": [
       "True"
      ]
     },
     "metadata": {},
     "execution_count": 203
    }
   ],
   "metadata": {}
  },
  {
   "cell_type": "code",
   "execution_count": 204,
   "source": [
    "linker = load_linker('')\r\n",
    "FPG = load_FPG('')\r\n",
    "\r\n",
    "full_sequence = X + linker + FPG + alphaX\r\n",
    "if full_sequence.count(rsite0) != 1:\r\n",
    "    print('rsite is not unique in the gene')\r\n",
    "    pass # TODO go back to 3."
   ],
   "outputs": [],
   "metadata": {}
  },
  {
   "cell_type": "markdown",
   "source": [
    "#### 7."
   ],
   "metadata": {}
  },
  {
   "cell_type": "code",
   "execution_count": 217,
   "source": [
    "# 7.\r\n",
    "\r\n",
    "# TODO load backbone with MCS, and two indices\r\n",
    "\r\n",
    "def load_MCS(path):\r\n",
    "    return 'GTAATACGACTCACTATAGGGCGAATTGGGTACCGGGCCCCCCCTCGAGGTCGACGGTATCGATAAGCTTGATATCGAATTCCTGCAGCCCGGGGGATCCACTAGTTCTAGAGCGGCCGCCACCGCGGTGGAGCTCCAGCTTTTGTTCCCTTTAGTGAGGGTTAATT'"
   ],
   "outputs": [],
   "metadata": {}
  },
  {
   "cell_type": "code",
   "execution_count": 206,
   "source": [
    "MCS = load_MCS('')\r\n",
    "# Search for the most outer CS from MCS that are not in 4. \r\n",
    "\r\n",
    "rsite1 = ''\r\n",
    "rsite2 = ''\r\n",
    "\r\n",
    "msc_rsitelist_sorted_right, _, _ = left_search(MCS, rsitelist, enamelist)\r\n",
    "for i, rsite in enumerate(msc_rsitelist_sorted_right):\r\n",
    "    if rsite not in full_sequence:\r\n",
    "        rsite1 = rsite\r\n",
    "        break\r\n",
    "\r\n",
    "msc_rsitelist_sorted_left, _, _ = right_search(MCS, rsitelist, enamelist)\r\n",
    "for i, rsite in enumerate(msc_rsitelist_sorted_left):\r\n",
    "    if rsite not in full_sequence:\r\n",
    "        rsite2 = rsite\r\n",
    "        break\r\n",
    "\r\n",
    "if not rsite1 or not rsite2:\r\n",
    "    pass # TODO exit program\r\n",
    "    print('good rsites not found in MCS')\r\n"
   ],
   "outputs": [],
   "metadata": {}
  },
  {
   "cell_type": "code",
   "execution_count": 207,
   "source": [
    "rsite1, rsite2"
   ],
   "outputs": [
    {
     "output_type": "execute_result",
     "data": {
      "text/plain": [
       "('GGTACC', 'GAGCTC')"
      ]
     },
     "metadata": {},
     "execution_count": 207
    }
   ],
   "metadata": {}
  },
  {
   "cell_type": "markdown",
   "source": [
    "#### 8."
   ],
   "metadata": {}
  },
  {
   "cell_type": "code",
   "execution_count": 269,
   "source": [
    "def load_backbones(path):\r\n",
    "    backbone_1=\"TCGCGCGTTTCGGTGATGACGGTGAAAACCTCTGACACATGCAGCTCCcGGACTCTAATTTGTGAGTTTAGTATACATGCATTTACTTATAATACAGTTTTTTAGTTTTGCTGGCCGCATCTTCTCAAATATGCTTCCCAGCCTGCTTTTCTGTAACGTTCACCCTCTACCTTAGCATCCCTTCCCTTTGCAAATAGTCCTCTTCCAACAATAATAATGTCAGATCCTGTAGAGACCACATCATCCACGGTTCTATACTGTTGACCCAATGCGTCTCCCTTGTCATCTAAACCCACACCGGGTGTCATAATCAACCAATCGTAACCTTCATCTCTTCCACCCATGTCTCTTTGAGCAATAAAGCCGATAACAAAATCTTTGTCGCTCTTCGCAATGTCAACAGTACCCTTAGTATATTCTCCAGTAGATAGGGAGCCCTTGCATGACAATTCTGCTAACATCAAAAGGCCTCTAGGTTCCTTTGTTACTTCTTCTGCCGCCTGCTTCAAACCGCTAACAATACCTGGGCCCACCACACCGTGTGCATTCGTAATGTCTGCCCATTCTGCTATTCTGTATACACCCGCAGAGTACTGCAATTTGACTGTATTACCAATGTCAGCAAATTTTCTGTCTTCGAAGAGTAAAAAATTGTACTTGGCGGATAATGCCTTTAGCGGCTTAACTGTGCCCTCCATGGAAAAATCAGTCAAGATATCCACATGTGTTTTTAGTAAACAAATTTTGGGACCTAATGCTTCAACTAACTCCAGTAATTCCTTGGTGGTACGAACATCCAATGAAGCACACAAGTTTGTTTGCTTTTCGTGCATGATATTAAATAGCTTGGCAGCAACAGGACTAGGATGAGTAGCAGCACGTTCCTTATATGTAGCTTTCGACATGATTTATCTTCGTTTCCTGCAGGTTTTTGTTCTGTGCAGTTGGGTTAAGAATACTGGGCAATTTCATGTTTCTTCAACACTACATATGCGTATATATACCAATCTAAGTCTGTGCTCCTTCCTTCGTTCTTCCTTCTGTTCGGAGATTACCGAATCAAAAAAATTTCAAGGAAACCGAAATCAAAAAAAAGAATAAAAAAAAAATGATGAATTGAAAAGGTGGTATGGTGCACTCTCAGTACTCCgGGAGACGGTCACAGCTTGTCTGTAAGCGGATGCCGGGAGCAGACAAGCCCGTCAGGGCGCGTCAGCGGGTGTTGGCGGGTGTCGGGGCTGGCTTAACTATGCGGCATCAGAGCAGATTGTACTGAGAGTGCACCATATCGACTACGTCGTTAAGGCCGTTTCTGACAGAGTAAAATTCTTGAGGGAACTTTCACCATTATGGGAAATGGTTCAAGAAGGTATTGACTTAAACTCCATCAAATGGTCAGGTCATTGAGTGTTTTTTATTTGTTGTATTTTTTTTTTTTTAGAGAAAATCCTCCAATATATAAATTAGGAATCATAGTTTCATGATTTTCTGTTACACCTAACTTTTTGTGTGGTGCCCTCCTCCTTGTCAATATTAATGTTAAAGTGCAATTCTTTTTCCTTATCACGTTGAGCCATTAGTATCAATTTGCTTACCTGTATTCCTTTACATCCTCCTTTTTCTCCTTCTTGATAAATGTATGTAGATTGCGTATATAGTTTCGTCTACCCTATGAACATATTCCATTTTGTAATTTCGTGTCGTTTCTATTATGAATTTCATTTATAAAGTTTATGTACAAATATCATAAAAAAAGAGAATCTTTTTAAGCAAGGATTTTCTTAACTTCTTCGGCGACAGCATCACCGACTTCGGTGGTACTGTTGGAACCACCTAAATCACCAGTTCTGATACCTGCATCCAAAACCTTTTTAACTGCATCTTCAATGGCCTTACCTTCTTCAGGCAAGTTCAATGACAATTTCAACATCATTGCAGCAGACAAGATAGTGGCGATAGGGTCAACCTTATTCTTTGGCAAATCTGGAGCAGAACCGTGGCATGGTTCGTACAAACCAAATGCGGTGTTCTTGTCTGGCAAAGAGGCCAAGGACGCAGATGGCAACAAACCCAAGGAACCTGGGATAACGGAGGCTTCATCGGAGATGATATCACCAAACATGTTGCTGGTGATTATAATACCATTTAGGTGGGTTGGGTTCTTAACTAGGATCATGGCGGCAGAATCAATCAATTGATGTTGAACCTTCAATGTAGGGAATTCGTTCTTGATGGTTTCCTCCACAGTTTTTCTCCATAATCTTGAAGAGGCCAAAAGATTAGCTTTATCCAAGGACCAAATAGGCAATGGTGGCTCATGTTGTAGGGCCATGAAAGCGGCCATTCTTGTGATTCTTTGCACTTCTGGAACGGTGTATTGTTCACTATCCCAAGCGACACCATCACCATCGTCTTCCTTTCTCTTACCAAAGTAAATACCTCCCACTAATTCTCTGACAACAACGAAGTCAGTACCTTTAGCAAATTGTGGCTTGATTGGAGATAAGTCTAAAAGAGAGTCGGATGCAAAGTTACATGGTCTTAAGTTGGCGTACAATTGAAGTTCTTTACGGATTTTTAGTAAACCTTGTTCAGGTCTAACACTACCGGTACCCCATTTAGGACCACCCACAGCACCTAACAAAACGGCATCAGCCTTCTTGGAGGCTTCCAGCGCCTCATCTGGAAGTGGAACACCTGTAGCATCGATAGCAGCACCACCAATTAAATGATTTTCGAAATCGAACTTGACATTGGAACGAACATCAGAAATAGCTTTAAGAACCTTAATGGCTTCGGCTGTGATTTCTTGACCAACGTGGTCACCTGGCAAAACGACGATCTTCTTAGGGGCAGACATTAGAATGGTATATCCTTGAAATATATATATATATATTGCTGAAATGTAAAAGGTAAGAAAAGTTAGAAAGTAAGACGATTGCTAACCACCTATTGGAAAAAACAATAGGTCCTTAAATAATATTGTCAACTTCAAGTATTGTGATGCAAGCATTTAGTCATGAACGCTTCTCTATTCTATATGAAAAGCCGGTTCCGGCGCTCTCACCTTTCCTTTTTCTCCCAATTTTTCAGTTGAAAAAGGTATATGCGTCAGGCGACCTCTGAAATTAACAAAAAATTTCCAGTCATCGAATTTGATTCTGTGCGATAGCGCCCCTGTGTGTTCTCGTTATGTTGAGGAAAAAAATAATGGTTGCTAAGAGATTCGAACTCTTGCATCTTACGATACCTGAGTATTCCCACAGTTAACTGCGGTCAAGATATTTCTTGAATCAGGCGCCTTAGACCGCTCGGCCAAACAACCAATTACTTGTTGAGAAATAGAGTATAATTATCCTATAAATATAACGTTTTTGAACACACATGAACAAGGAAGTACAGGACAATTGATTTTGAAGAGAATGTGGATTTTGATGTAATTGTTGGGATTCCATTTTTAATAAGGCAATAATATTAGGTATGTAGATATACTAGAAGTTCTCCTCGACCGGTCGATATGCGGTGTGAAATACCGCACAGATGCGTAAGGAGAAAATACCGCATCAGGAAATTGTAAgCGTTAATATTTTGTTAAAATTCGCGTTAAATTTTTGTTAAATCAGCTCATTTTTTAACCAATAGGCCGAAATCGGCAAAATCCCTTATAAATCAAAAGAATAGACCGAGATAGGGTTGAGTGTTGTTCCAGTTTGGAACAAGAGTCCACTATTAAAGAACGTGGACTCCAACGTCAAAGGGCGAAAAACCGTCTATCAGGGCGATGGCCCACTACGTGAACCATCACCCTAATCAAGTTTTTTGGGGTCGAGGTGCCGTAAAGCACTAAATCGGAACCCTAAAGGGAGCCCCCGATTTAGAGCTTGACGGGGAAAGCCGGCGAACGTGGCGAGAAAGGAAGGGAAGAAAGCGAAAGGAGCGGGCGCTAGGGCGCTGGCAAGTGTAGCGGTCACGCTGCGCGTAACCACCACACCCGCCGCGCTTAATGCGCCGCTACAGGGCGCGTCCATTCGCCATTCAGGCTGCGCAACTGTTGGGAAGGGCGATCGGTGCGGGCCTCTTCGCTATTACGCCAGCTGGCGAAAGGGGGATGTGCTGCAAGGCGATTAAGTTGGGTAACGCCAGGGTTTTCCCAGTCACGACGTTGTAAAACGACGGCCAGTGAGCGCGC\"\r\n",
    "    backbone_2=\"GCGCGCTTGGCGTAATCATGGTCATAGCTGTTTCCTGTGTGAAATTGTTATCCGCTCACAATTCCACACAACATAcGAGCCGGAAGCATAAAGTGTAAAGCCTGGGGTGCCTAATGAGTGAGcTAACTCACATTAATTGCGTTGCGCTCACTGCCCGCTTTCCAGTCGGGAAACCTGTCGTGCCAGCTGCATTAATGAATCGGCCAACGCGCGGGGAGAGGCGGTTTGCGTATTGGGCGCTCTTCCGCTTCCTCGCTCACTGACTCGCTGCGCTCGGTCGTTCGGCTGCGGCGAGCGGTATCAGCTCACTCAAAGGCGGTAATACGGTTATCCACAGAATCAGGGGATAACGCAGGAAAGAACATGTGAGCAAAAGGCCAGCAAAAGGCCAGGAACCGTAAAAAGGCCGCGTTGCTGGCGTTTTTCCATAGGCTCCGCCCCCCTGACGAGCATCACAAAAATCGACGCTCAAGTCAGAGGTGGCGAAACCCGACAGGACTATAAAGATACCAGGCGTTTCCCCCTGGAAGCTCCCTCGTGCGCTCTCCTGTTCCGACCCTGCCGCTTACCGGATACCTGTCCGCCTTTCTCCCTTCGGGAAGCGTGGCGCTTTCTCATAGCTCACGCTGTAGGTATCTCAGTTCGGTGTAGGTCGTTCGCTCCAAGCTGGGCTGTGTGCACGAACCCCCCGTTCAGCCCGACCGCTGCGCCTTATCCGGTAACTATCGTCTTGAGTCCAACCCGGTAAGACACGACTTATCGCCACTGGCAGCAGCCACTGGTAACAGGATTAGCAGAGCGAGGTATGTAGGCGGTGCTACAGAGTTCTTGAAGTGGTGGCCTAACTACGGCTACACTAGAAGGACAGTATTTGGTATCTGCGCTCTGCTGAAGCCAGTTACCTTCGGAAAAAGAGTTGGTAGCTCTTGATCCGGCAAACAAACCACCGCTGGTAGCGGTGGTTTTTTTGTTTGCAAGCAGCAGATTACGCGCAGAAAAAAAGGATCTCAAGAAGATCCTTTGATCTTTTCTACGGGGTCTGACGCTCAGTGGAACGAAAACTCACGTTAAGGGATTTTGGTCATGAGATTATCAAAAAGGATCTTCACCTAGATCCTTTTAAATTAAAAATGAAGTTTTAAATCAATCTAAAGTATATATGAGTAAACTTGGTCTGACAGTTACCAATGCTTAATCAGTGAGGCACCTATCTCAGCGATCTGTCTATTTCGTTCATCCATAGTTGCCTGACTCCCCGTCGTGTAGATAACTACGATACGGGAGGGCTTACCATCTGGCCCCAGTGCTGCAATGATACCGCGAGACCCACGCTCACCGGCTCCAGATTTATCAGCAATAAACCAGCCAGCCGGAAGGGCCGAGCGCAGAAGTGGTCCTGCAACTTTATCCGCCTCCATCCAGTCTATTAATTGTTGCCGGGAAGCTAGAGTAAGTAGTTCGCCAGTTAATAGTTTGCGCAACGTTGTTGCCATTGCTACAGGCATCGTGGTGTCACGCTCGTCGTTTGGTATGGCTTCATTCAGCTCCGGTTCCCAACGATCAAGGCGAGTTACATGATCCCCCATGTTGTGCAAAAAAGCGGTTAGCTCCTTCGGTCCTCCGATCGTTGTCAGAAGTAAGTTGGCCGCAGTGTTATCACTCATGGTTATGGCAGCACTGCATAATTCTCTTACTGTCATGCCATCCGTAAGATGCTTTTCTGTGACTGGTGAGTACTCAACCAAGTCATTCTGAGAATAGTGTATGCGGCGACCGAGTTGCTCTTGCCCGGCGTCAATACGGGATAATACCGCGCCACATAGCAGAACTTTAAAAGTGCTCATCATTGGAAAACGTTCTTCGGGGCGAAAACTCTCAAGGATCTTACCGCTGTTGAGATCCAGTTCGATGTAACCCACTCGTGCACCCAACTGATCTTCAGCATCTTTTACTTTCACCAGCGTTTCTGGGTGAGCAAAAACAGGAAGGCAAAATGCCGCAAAAAAGGGAATAAGGGCGACACGGAAATGTTGAATACTCATACTCTTCCTTTTTCAATATTATTGAAGCATTTATCAGGGTTATTGTCTCATGAGCGGATACATATTTGAATGTATTTAGAAAAATAAACAAATAGGGGTTCCGCGCACATTTCCCCGAAAAGTGCCACCTGACGTCTAAGAAACCATTATTATCATGACATTAACCTATAAAAATAGGCGTATCACGAGGCCCTTTCGTC\"\r\n",
    "\r\n",
    "    return [backbone_1,backbone_2]\r\n",
    "\r\n",
    "def assemble_plasmid(backbone, sequence):\r\n",
    "    return sequence + backbone + sequence\r\n",
    "    "
   ],
   "outputs": [],
   "metadata": {}
  },
  {
   "cell_type": "code",
   "execution_count": 209,
   "source": [
    "backbones = load_backbones('')\r\n",
    "for backbone in backbones:\r\n",
    "    full_plasmid = assemble_plasmid(backbone, full_sequence)\r\n",
    "    if full_plasmid.count(rsite0) == 2:\r\n",
    "        print('plasmid found')\r\n",
    "        break\r\n",
    "\r\n"
   ],
   "outputs": [
    {
     "output_type": "stream",
     "name": "stdout",
     "text": [
      "plasmid found\n"
     ]
    }
   ],
   "metadata": {}
  },
  {
   "cell_type": "code",
   "execution_count": 199,
   "source": [
    "full_plasmid.count(rsite0)"
   ],
   "outputs": [
    {
     "output_type": "execute_result",
     "data": {
      "text/plain": [
       "3"
      ]
     },
     "metadata": {},
     "execution_count": 199
    }
   ],
   "metadata": {}
  },
  {
   "cell_type": "markdown",
   "source": [
    "# FULL CODE"
   ],
   "metadata": {}
  },
  {
   "cell_type": "code",
   "execution_count": 293,
   "source": [
    "def generate_full_sequence(Gene, rsite_position, rsite, minhomology, alpha, linker, FPG, gene_position, Left_of_gene='', Right_of_gene=''): \r\n",
    "    #TODO 5p i 3p with respect to the main gene sequence\r\n",
    "\r\n",
    "    if gene_position not in ['left','right']:\r\n",
    "        raise ValueError('Wrong gene_position value')\r\n",
    "\r\n",
    "    if gene_position == 'left':\r\n",
    "        X = Gene[rsite_position-minhomology:-3] #We retrieve the 5p end of the gene without the stop codon\r\n",
    "        alphaX = Right_of_gene[:int(alpha*len(X))]\r\n",
    "        full_sequence = X + linker + FPG + alphaX + 'TGA' #we add the stop codon at the end\r\n",
    "    else:\r\n",
    "        # TODO check\r\n",
    "        X = Gene[:rsite_position+len(rsite)+minhomology]\r\n",
    "        alphaX = Left_of_gene[-int(alpha*len(X)):]\r\n",
    "        full_sequence = alphaX + FPG + linker + X \r\n",
    "\r\n",
    "    return full_sequence\r\n",
    "\r\n",
    "\r\n",
    "def find_compatible_MCS_rsites(MCS, rsitelist, enamelist, full_sequence):\r\n",
    "\r\n",
    "    rsite1 = ''\r\n",
    "    rsite2 = ''\r\n",
    "\r\n",
    "    msc_rsitelist_sorted_right, _, _ = rsite_search(MCS, rsitelist, enamelist, starting_position='right')\r\n",
    "    for i, rsite in enumerate(msc_rsitelist_sorted_right):\r\n",
    "        if rsite not in full_sequence:\r\n",
    "            rsite1 = rsite\r\n",
    "            break\r\n",
    "\r\n",
    "    msc_rsitelist_sorted_left, _, _ = rsite_search(MCS, rsitelist, enamelist, starting_position='left')\r\n",
    "    for i, rsite in enumerate(msc_rsitelist_sorted_left):\r\n",
    "        if rsite not in full_sequence:\r\n",
    "            rsite2 = rsite\r\n",
    "            break\r\n",
    "        \r\n",
    "    return rsite1, rsite2"
   ],
   "outputs": [],
   "metadata": {}
  },
  {
   "cell_type": "code",
   "execution_count": 294,
   "source": [
    "# 1. and 2.\r\n",
    "genefile   = './Chris_code/clb2_pm_1000.txt'\r\n",
    "enzymefile = './Chris_code/raw_enzyme_list.txt'\r\n",
    "minhomology = 100\r\n",
    "alpha = 1\r\n",
    "\r\n",
    "Left_of_gene, Gene, Right_of_gene = read_gene_string(genefile)\r\n",
    "rsitelist, enamelist = read_enzyme_list(enzymefile)\r\n",
    "\r\n",
    "linker = load_linker('')\r\n",
    "FPG = load_FPG('')\r\n",
    "\r\n",
    "\r\n",
    "# 3.\r\n",
    "gene_rsitelist_sorted, gene_enamelist_sorted, gene_rsite_position_list_sorted = rsite_search(\r\n",
    "    Gene, rsitelist, enamelist, starting_position='right', minhomology=100)\r\n",
    "\r\n",
    "\r\n",
    "\r\n",
    "for i in range(len(gene_rsitelist_sorted)):\r\n",
    "\r\n",
    "\r\n",
    "    # 4. and 5.\r\n",
    "    rsite0 = gene_rsitelist_sorted[i]\r\n",
    "    rsite0_pos = gene_rsite_position_list_sorted[i]\r\n",
    "    ename0 = gene_enamelist_sorted[i]\r\n",
    "    print(i, rsite0)\r\n",
    "\r\n",
    "    full_sequence = generate_full_sequence(\r\n",
    "        Gene, rsite0_pos, rsite, minhomology, alpha, linker, FPG, gene_position='left', Right_of_gene=Right_of_gene)\r\n",
    "    if full_sequence.count(rsite0) != 1:\r\n",
    "        print('rsite {} is not unique in the gene'.format(rsite0))\r\n",
    "        continue\r\n",
    "    \r\n",
    "\r\n",
    "    # 7.\r\n",
    "    MCS = load_MCS('')\r\n",
    "    # Search for the most outer CS from MCS that are not in 4. \r\n",
    "    rsite1, rsite2 = find_compatible_MCS_rsites(MCS, rsitelist, enamelist, full_sequence)\r\n",
    "    if not rsite1 or not rsite2:\r\n",
    "        print('good rsites not found in MCS, rsites: ', rsite1, rsite2)\r\n",
    "        # If not potential cutsites were find in MCS abort the program (finding another cutsite for gene integration would make the sequence for cloning longer)\r\n",
    "        break\r\n",
    "    \r\n",
    "    \r\n",
    "    # 8.\r\n",
    "    backbones = load_backbones('')\r\n",
    "    plasmid_found = False\r\n",
    "    for backbone in backbones:\r\n",
    "        full_plasmid = assemble_plasmid(backbone, full_sequence)\r\n",
    "        if full_plasmid.count(rsite0) == 2:\r\n",
    "            print('plasmid found')\r\n",
    "            plasmid_found = True\r\n",
    "            break\r\n",
    "        else:\r\n",
    "            print('bad backbone')\r\n",
    "\r\n",
    "    if plasmid_found:\r\n",
    "        break\r\n"
   ],
   "outputs": [
    {
     "output_type": "stream",
     "name": "stdout",
     "text": [
      "0 TCATGA\n",
      "bad backbone\n",
      "bad backbone\n",
      "1 CAATTG\n",
      "bad backbone\n",
      "plasmid found\n"
     ]
    }
   ],
   "metadata": {}
  },
  {
   "cell_type": "code",
   "execution_count": 48,
   "source": [
    "def dna_to_protein(dna):\r\n",
    "     #Translates DNA into a Protein. it truncates the 3' tail that doesn't make a full codon\r\n",
    "     #STOP is denoted by '*'\r\n",
    "     \r\n",
    "\tdna = dna.upper()\r\n",
    "\r\n",
    "\tgenetic_code = {\r\n",
    "        'ATA':'I', 'ATC':'I', 'ATT':'I', 'ATG':'M',\r\n",
    "        'ACA':'T', 'ACC':'T', 'ACG':'T', 'ACT':'T',\r\n",
    "        'AAC':'N', 'AAT':'N', 'AAA':'K', 'AAG':'K',\r\n",
    "        'AGC':'S', 'AGT':'S', 'AGA':'R', 'AGG':'R',                 \r\n",
    "        'CTA':'L', 'CTC':'L', 'CTG':'L', 'CTT':'L',\r\n",
    "        'CCA':'P', 'CCC':'P', 'CCG':'P', 'CCT':'P',\r\n",
    "        'CAC':'H', 'CAT':'H', 'CAA':'Q', 'CAG':'Q',\r\n",
    "        'CGA':'R', 'CGC':'R', 'CGG':'R', 'CGT':'R',\r\n",
    "        'GTA':'V', 'GTC':'V', 'GTG':'V', 'GTT':'V',\r\n",
    "        'GCA':'A', 'GCC':'A', 'GCG':'A', 'GCT':'A',\r\n",
    "        'GAC':'D', 'GAT':'D', 'GAA':'E', 'GAG':'E',\r\n",
    "        'GGA':'G', 'GGC':'G', 'GGG':'G', 'GGT':'G',\r\n",
    "        'TCA':'S', 'TCC':'S', 'TCG':'S', 'TCT':'S',\r\n",
    "        'TTC':'F', 'TTT':'F', 'TTA':'L', 'TTG':'L',\r\n",
    "        'TAC':'Y', 'TAT':'Y', 'TAA':'*', 'TAG':'*',\r\n",
    "        'TGC':'C', 'TGT':'C', 'TGA':'*', 'TGG':'W',\r\n",
    "    }\r\n",
    "\tprotein = ''\r\n",
    "\r\n",
    "\r\n",
    "\tif(len(dna)%3 != 0):\r\n",
    "\t\tdna = dna[: -(len(dna)%3)]\r\n",
    "\r\n",
    "\tfor i in range(0, len(dna), 3):\r\n",
    "\t\tcode = dna[i:i+3]\r\n",
    "\t\tif(code in genetic_code.keys()):\r\n",
    "\t\t    protein += genetic_code[code]\r\n",
    "\t\telse:\r\n",
    "\t\t\tprotein = ''\r\n",
    "\t\t\tbreak\r\n",
    "\t\r\n",
    "\treturn protein\r\n"
   ],
   "outputs": [],
   "metadata": {}
  },
  {
   "cell_type": "code",
   "execution_count": 13,
   "source": [
    "def  find_additional_cutsites(plasmid, rsitelist, enamelist):\r\n",
    "#this function finds all appropropriate cutsites that could be added between different pieces of the insert in the plasmid (e.g. between the gene and the linker or between the linker and the FPG etc)\r\n",
    "#a good cutsite has to fullfill three criteria:\r\n",
    "#1. Divisible by 3 (this could be circuimvented by accomidating the linker length)\r\n",
    "#2. Does not cut the final plasmid\r\n",
    "#3. Does not introduce a stop codon\r\n",
    "\r\n",
    "    good_rsite_list = []\r\n",
    "    good_enzyme_list = []\r\n",
    "    for rsite, enzyme in zip(rsitelist, enamelist):\r\n",
    "        if len(rsite)%3 == 0 and plasmid.count(rsite) == 0 and dna_to_protein(rsite).count('*') == 0:\r\n",
    "            good_rsite_list.append(rsite)\r\n",
    "            good_enzyme_list.append(enzyme)\r\n",
    "\r\n",
    "    return good_rsite_list, good_enzyme_list"
   ],
   "outputs": [],
   "metadata": {}
  },
  {
   "cell_type": "code",
   "execution_count": 55,
   "source": [],
   "outputs": [
    {
     "output_type": "execute_result",
     "data": {
      "text/plain": [
       "1"
      ]
     },
     "metadata": {},
     "execution_count": 55
    }
   ],
   "metadata": {}
  },
  {
   "cell_type": "code",
   "execution_count": null,
   "source": [],
   "outputs": [],
   "metadata": {}
  }
 ],
 "metadata": {
  "interpreter": {
   "hash": "841159ca92e470d2c15efac886a071402c9a594398da0f615defd04595a3ae06"
  },
  "kernelspec": {
   "name": "python3",
   "display_name": "Python 3.6.5 64-bit ('base': conda)"
  },
  "language_info": {
   "codemirror_mode": {
    "name": "ipython",
    "version": 3
   },
   "file_extension": ".py",
   "mimetype": "text/x-python",
   "name": "python",
   "nbconvert_exporter": "python",
   "pygments_lexer": "ipython3",
   "version": "3.6.5"
  },
  "orig_nbformat": 4
 },
 "nbformat": 4,
 "nbformat_minor": 2
}