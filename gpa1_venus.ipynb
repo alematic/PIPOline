{
 "cells": [
  {
   "cell_type": "code",
   "execution_count": 1,
   "metadata": {},
   "outputs": [],
   "source": [
    "import pandas as pd\n",
    "import numpy as np\n",
    "import subprocess"
   ]
  },
  {
   "cell_type": "markdown",
   "metadata": {},
   "source": [
    "## Example done with Vojislav\n",
    "python.exe ./main.py --backbone_path ./Test_examples/pETUL_backbone.fsa --MCS_start_ind 1 --MCS_end_ind 108 --min_homology 150 --alpha 2 --Gene_path ./Test_examples/S288C_YHR005C_GPA1_flanking_without_first_30_nt.fsa --linker_path ./Test_examples/long_linker.fsa --modality 5 --enzyme_path ./Test_examples/raw_enzyme_list.txt --popular_enzyme_path ./Test_examples/Popular_enzymes.txt --FPG_paths ./Test_examples/CLB2_3p_labeling/ymNeonGreen_FPG.fsa"
   ]
  },
  {
   "cell_type": "markdown",
   "metadata": {},
   "source": [
    "## GPA1-Venus insert"
   ]
  },
  {
   "cell_type": "markdown",
   "metadata": {},
   "source": [
    "#### 10th position"
   ]
  },
  {
   "cell_type": "markdown",
   "metadata": {},
   "source": [
    "python.exe ./main.py --backbone_path ./Protein_design/GPA1_Venus/pETUL_backbone.fsa --MCS_start_ind 1 --MCS_end_ind 108 --min_homology 150 --alpha 2 --Gene_path ./Protein_design/GPA1_Venus/S288C_YHR005C_GPA1_flanking_without_first_30_nt.fsa --linker_path ./Protein_design/GPA1_Venus/3xSGGGG_linker.fsa --modality 5 --enzyme_path ./raw_enzyme_list.txt --popular_enzyme_path ./Popular_enzymes.txt --FPG_paths ./FPGs/yEVenus.fsa"
   ]
  },
  {
   "cell_type": "code",
   "execution_count": 3,
   "metadata": {},
   "outputs": [],
   "source": [
    "gpa1_10_venus = \"python.exe ./main.py --backbone_path ./Protein_design/GPA1_Venus/pETUL_backbone.fsa --MCS_start_ind 1 --MCS_end_ind 108 --min_homology 150 --alpha 2 --Gene_path ./Protein_design/GPA1_Venus/S288C_YHR005C_GPA1_flanking_without_first_30_nt.fsa --linker_path ./Protein_design/GPA1_Venus/3xSGGGG_linker.fsa --modality 5 --enzyme_path ./raw_enzyme_list.txt --popular_enzyme_path ./Popular_enzymes.txt --FPG_paths ./FPGs/yEVenus.fsa\"\n",
    "output = subprocess.check_output(gpa1_10_venus, shell=True, text=True)\n",
    "\n",
    "with open('Protein_design/GPA1_Venus/result_gpa1_10_venus.txt', 'w') as file:\n",
    "    file.write(output)"
   ]
  },
  {
   "cell_type": "markdown",
   "metadata": {},
   "source": [
    "#### 36th position"
   ]
  },
  {
   "cell_type": "markdown",
   "metadata": {},
   "source": [
    "python.exe ./main.py --backbone_path ./Protein_design/GPA1_Venus/pETUL_backbone.fsa --MCS_start_ind 1 --MCS_end_ind 108 --min_homology 150 --alpha 2 --Gene_path ./Protein_design/GPA1_Venus/S288C_YHR005C_GPA1_flanking_without_first_108_nt.fsa --linker_path ./Protein_design/GPA1_Venus/3xSGGGG_linker.fsa --modality 5 --enzyme_path ./raw_enzyme_list.txt --popular_enzyme_path ./Popular_enzymes.txt --FPG_paths ./FPGs/yEVenus.fsa"
   ]
  },
  {
   "cell_type": "code",
   "execution_count": 5,
   "metadata": {},
   "outputs": [],
   "source": [
    "gpa1_36_venus = \"python.exe ./main.py --backbone_path ./Protein_design/GPA1_Venus/pETUL_backbone.fsa --MCS_start_ind 1 --MCS_end_ind 108 --min_homology 150 --alpha 2 --Gene_path ./Protein_design/GPA1_Venus/S288C_YHR005C_GPA1_flanking_without_first_108_nt.fsa --linker_path ./Protein_design/GPA1_Venus/3xSGGGG_linker.fsa --modality 5 --enzyme_path ./raw_enzyme_list.txt --popular_enzyme_path ./Popular_enzymes.txt --FPG_paths ./FPGs/yEVenus.fsa\"\n",
    "output = subprocess.check_output(gpa1_36_venus, shell=True, text=True)\n",
    "\n",
    "with open('Protein_design/GPA1_Venus/result_gpa1_36_venus.txt', 'w') as file:\n",
    "    file.write(output)"
   ]
  },
  {
   "cell_type": "markdown",
   "metadata": {},
   "source": [
    "#### 67th position"
   ]
  },
  {
   "cell_type": "markdown",
   "metadata": {},
   "source": [
    "python.exe ./main.py --backbone_path ./Protein_design/GPA1_Venus/pETUL_backbone.fsa --MCS_start_ind 1 --MCS_end_ind 108 --min_homology 150 --alpha 2 --Gene_path ./Protein_design/GPA1_Venus/S288C_YHR005C_GPA1_flanking_without_first_201_nt.fsa --linker_path ./Protein_design/GPA1_Venus/3xSGGGG_linker.fsa --modality 5 --enzyme_path ./raw_enzyme_list.txt --popular_enzyme_path ./Popular_enzymes.txt --FPG_paths ./FPGs/yEVenus.fsa"
   ]
  },
  {
   "cell_type": "code",
   "execution_count": 6,
   "metadata": {},
   "outputs": [],
   "source": [
    "gpa1_67_venus = \"python.exe ./main.py --backbone_path ./Protein_design/GPA1_Venus/pETUL_backbone.fsa --MCS_start_ind 1 --MCS_end_ind 108 --min_homology 150 --alpha 2 --Gene_path ./Protein_design/GPA1_Venus/S288C_YHR005C_GPA1_flanking_without_first_201_nt.fsa --linker_path ./Protein_design/GPA1_Venus/3xSGGGG_linker.fsa --modality 5 --enzyme_path ./raw_enzyme_list.txt --popular_enzyme_path ./Popular_enzymes.txt --FPG_paths ./FPGs/yEVenus.fsa\"\n",
    "output = subprocess.check_output(gpa1_67_venus, shell=True, text=True)\n",
    "\n",
    "with open('Protein_design/GPA1_Venus/result_gpa1_67_venus.txt', 'w') as file:\n",
    "    file.write(output)"
   ]
  }
 ],
 "metadata": {
  "kernelspec": {
   "display_name": "base",
   "language": "python",
   "name": "python3"
  },
  "language_info": {
   "codemirror_mode": {
    "name": "ipython",
    "version": 3
   },
   "file_extension": ".py",
   "mimetype": "text/x-python",
   "name": "python",
   "nbconvert_exporter": "python",
   "pygments_lexer": "ipython3",
   "version": "3.11.5"
  }
 },
 "nbformat": 4,
 "nbformat_minor": 2
}
